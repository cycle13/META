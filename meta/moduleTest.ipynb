{
 "cells": [
  {
   "cell_type": "markdown",
   "metadata": {},
   "source": [
    "This script is used to test the modules."
   ]
  },
  {
   "cell_type": "code",
   "execution_count": 9,
   "metadata": {},
   "outputs": [],
   "source": [
    "%matplotlib inline\n",
    "\n",
    "import numpy as np\n",
    "import scipy\n",
    "from netCDF4 import Dataset\n",
    "import matplotlib\n",
    "import matplotlib.pyplot as plt\n",
    "import os\n",
    "import statistics"
   ]
  },
  {
   "cell_type": "code",
   "execution_count": 11,
   "metadata": {},
   "outputs": [
    {
     "name": "stdout",
     "output_type": "stream",
     "text": [
      "*********************** extract variables *************************\n",
      "(36, 12, 95)\n",
      "<class 'numpy.ma.core.MaskedArray'>\n"
     ]
    }
   ],
   "source": [
    "if __name__==\"__main__\":\n",
    "    # sample\n",
    "    ################################   Input zone  ######################################\n",
    "    # specify data path\n",
    "    datapath_ERAI = '/home/yang/workbench/Core_Database_AMET_OMET_reanalysis/ERAI/postprocessing'\n",
    "    datapath_ORAS4 = '/home/yang/workbench/Core_Database_AMET_OMET_reanalysis/ORAS4/postprocessing'\n",
    "    datapath_ERAI_fields = '/home/yang/workbench/Core_Database_AMET_OMET_reanalysis/ERAI/regression'\n",
    "    #####################################################################################\n",
    "    print ('*********************** extract variables *************************')\n",
    "    dataset_ERAI_fields_SIC_SST_SLP = Dataset(os.path.join(datapath_ERAI_fields,'surface_ERAI_monthly_regress_1979_2016.nc'))\n",
    "    dataset_ERAI_AMET = Dataset(os.path.join(datapath_ERAI,'model_daily_075_1979_2016_E_zonal_int.nc'))\n",
    "    dataset_ORAS4_OMET = Dataset(os.path.join(datapath_ORAS4,'oras4_model_monthly_orca1_E_zonal_int.nc'))\n",
    "    # extract time series from 1979 to 2014\n",
    "    # from 20N - 90N\n",
    "    AMET_ERAI_reverse = dataset_ERAI_AMET.variables['E'][:-2,:,:]/1000 # from Tera Watt to Peta Watt\n",
    "    OMET_ORAS4 = dataset_ORAS4_OMET.variables['E'][21:,:,180:]/1000 # from Tera Watt to Peta Watt # start from 1979\n",
    "    year_ORAS4 = dataset_ORAS4_OMET.variables['year'][21:]    # from 1979 to 2014\n",
    "    month_ORAS4 = dataset_ORAS4_OMET.variables['month'][:]\n",
    "    latitude_OMET_ORAS4 = dataset_ORAS4_OMET.variables['latitude_aux'][180:]\n",
    "    latitude_AMET_ERAI_reverse = dataset_ERAI_AMET.variables['latitude'][:]\n",
    "    # since OMET is from 20N - 90N, AMET is from 90N to 20N, we have to reverse it\n",
    "    # for interpolation, x should be monotonically increasing\n",
    "    latitude_AMET_ERAI = latitude_AMET_ERAI_reverse[::-1]\n",
    "    AMET_ERAI = AMET_ERAI_reverse[:,:,::-1]\n",
    "    print (AMET_ERAI.shape)\n",
    "    print (type(OMET_ORAS4))"
   ]
  },
  {
   "cell_type": "code",
   "execution_count": 14,
   "metadata": {},
   "outputs": [
    {
     "name": "stdout",
     "output_type": "stream",
     "text": [
      "*******************  interpolation for regression   **********************\n"
     ]
    }
   ],
   "source": [
    "    print ('*******************  interpolation for regression   **********************')\n",
    "    # interpolate OMET on the latitude of AMET\n",
    "    OMET_ORAS4_interp = np.zeros((len(year_ORAS4),len(month_ORAS4),len(latitude_AMET_ERAI)),dtype=float)\n",
    "    for i in np.arange(len(year_ORAS4)):\n",
    "        for j in np.arange(len(month_ORAS4)):\n",
    "            ius = scipy.interpolate.interp1d(latitude_OMET_ORAS4, OMET_ORAS4[i,j,:], kind='slinear',\n",
    "                                             bounds_error=False, fill_value=0.0)\n",
    "            OMET_ORAS4_interp[i,j,:] = ius(latitude_AMET_ERAI.data)\n",
    "    #print (OMET_ORAS4_interp)"
   ]
  },
  {
   "cell_type": "markdown",
   "metadata": {},
   "source": []
  },
  {
   "cell_type": "code",
   "execution_count": 15,
   "metadata": {},
   "outputs": [
    {
     "name": "stdout",
     "output_type": "stream",
     "text": [
      "*******************  postprocess with statistical tool  *********************\n",
      "The input data has the dimension of month.\n",
      "The output anomaly time series only contains one dimension for time!\n",
      "The input data has the dimension of month.\n",
      "The output anomaly time series only contains one dimension for time!\n"
     ]
    },
    {
     "data": {
      "text/plain": [
       "array([[-0.02349856, -0.03247318, -0.03698061, ..., -0.00111906,\n",
       "        -0.00055318,  0.        ],\n",
       "       [-0.02544719, -0.03514104, -0.04068311, ..., -0.00083052,\n",
       "        -0.00035005,  0.        ],\n",
       "       [-0.02350534, -0.03398948, -0.04027839, ..., -0.00053838,\n",
       "        -0.00014856,  0.        ],\n",
       "       ...,\n",
       "       [-0.00222099, -0.00591381, -0.01023698, ...,  0.00104718,\n",
       "         0.00070661,  0.        ],\n",
       "       [-0.00962374, -0.01015496, -0.01159175, ...,  0.00109981,\n",
       "         0.00079336,  0.        ],\n",
       "       [ 0.00442281,  0.00496903,  0.00514259, ...,  0.00105569,\n",
       "         0.00075247,  0.        ]])"
      ]
     },
     "execution_count": 15,
     "metadata": {},
     "output_type": "execute_result"
    }
   ],
   "source": [
    "    print ('*******************  postprocess with statistical tool  *********************')\n",
    "    stat_AMET_ERAI = statistics.operator(AMET_ERAI)\n",
    "    stat_AMET_ERAI.anomaly()\n",
    "    stat_AMET_ERAI.lowpass()\n",
    "    stat_OMET_ORAS4 = statistics.operator(OMET_ORAS4_interp)\n",
    "    stat_OMET_ORAS4.anomaly()\n",
    "    stat_OMET_ORAS4.detrend()\n",
    "    stat_OMET_ORAS4.lowpass(obj='detrend')"
   ]
  }
 ],
 "metadata": {
  "kernelspec": {
   "display_name": "Python 3",
   "language": "python",
   "name": "python3"
  },
  "language_info": {
   "codemirror_mode": {
    "name": "ipython",
    "version": 3
   },
   "file_extension": ".py",
   "mimetype": "text/x-python",
   "name": "python",
   "nbconvert_exporter": "python",
   "pygments_lexer": "ipython3",
   "version": "3.6.3"
  }
 },
 "nbformat": 4,
 "nbformat_minor": 2
}
