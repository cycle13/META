{
 "cells": [
  {
   "cell_type": "markdown",
   "metadata": {},
   "source": [
    "This script is used to test the modules."
   ]
  },
  {
   "cell_type": "code",
   "execution_count": 1,
   "metadata": {},
   "outputs": [
    {
     "ename": "SyntaxError",
     "evalue": "unexpected EOF while parsing (massBudget.py, line 62)",
     "output_type": "error",
     "traceback": [
      "Traceback \u001b[0;36m(most recent call last)\u001b[0m:\n",
      "  File \u001b[1;32m\"/home/yang/.pyenv/versions/anaconda3-5.0.1/lib/python3.6/site-packages/IPython/core/interactiveshell.py\"\u001b[0m, line \u001b[1;32m2862\u001b[0m, in \u001b[1;35mrun_code\u001b[0m\n    exec(code_obj, self.user_global_ns, self.user_ns)\n",
      "\u001b[0;36m  File \u001b[0;32m\"<ipython-input-1-f222f038e092>\"\u001b[0;36m, line \u001b[0;32m10\u001b[0;36m, in \u001b[0;35m<module>\u001b[0;36m\u001b[0m\n\u001b[0;31m    import massBudget\u001b[0m\n",
      "\u001b[0;36m  File \u001b[0;32m\"/home/yang/NLeSC/Computation_Modeling/Bjerknes/Scripts/META/meta/massBudget.py\"\u001b[0;36m, line \u001b[0;32m62\u001b[0m\n\u001b[0;31m    def __init__(self):\u001b[0m\n\u001b[0m                       ^\u001b[0m\n\u001b[0;31mSyntaxError\u001b[0m\u001b[0;31m:\u001b[0m unexpected EOF while parsing\n"
     ]
    }
   ],
   "source": [
    "%matplotlib inline\n",
    "\n",
    "import numpy as np\n",
    "import scipy\n",
    "from netCDF4 import Dataset\n",
    "import matplotlib\n",
    "import matplotlib.pyplot as plt\n",
    "import os\n",
    "import statistics\n",
    "import massBudget"
   ]
  },
  {
   "cell_type": "code",
   "execution_count": 2,
   "metadata": {},
   "outputs": [
    {
     "name": "stdout",
     "output_type": "stream",
     "text": [
      "*********************** extract variables *************************\n",
      "(36, 12, 95)\n",
      "<class 'numpy.ma.core.MaskedArray'>\n"
     ]
    }
   ],
   "source": [
    "if __name__==\"__main__\":\n",
    "    \n",
    "    # sample\n",
    "    ################################   Input zone  ######################################\n",
    "    # specify data path\n",
    "    datapath_ERAI = '/home/yang/workbench/Core_Database_AMET_OMET_reanalysis/ERAI/postprocessing'\n",
    "    datapath_ORAS4 = '/home/yang/workbench/Core_Database_AMET_OMET_reanalysis/ORAS4/postprocessing'\n",
    "    datapath_ERAI_fields = '/home/yang/workbench/Core_Database_AMET_OMET_reanalysis/ERAI/regression'\n",
    "    #####################################################################################\n",
    "    print ('*********************** extract variables *************************')\n",
    "    dataset_ERAI_fields_SIC_SST_SLP = Dataset(os.path.join(datapath_ERAI_fields,'surface_ERAI_monthly_regress_1979_2016.nc'))\n",
    "    dataset_ERAI_AMET = Dataset(os.path.join(datapath_ERAI,'model_daily_075_1979_2016_E_zonal_int.nc'))\n",
    "    dataset_ORAS4_OMET = Dataset(os.path.join(datapath_ORAS4,'oras4_model_monthly_orca1_E_zonal_int.nc'))\n",
    "    # extract time series from 1979 to 2014\n",
    "    # from 20N - 90N\n",
    "    AMET_ERAI_reverse = dataset_ERAI_AMET.variables['E'][:-2,:,:]/1000 # from Tera Watt to Peta Watt"
   ]
  },
  {
   "cell_type": "markdown",
   "metadata": {},
   "source": []
  }
 ],
 "metadata": {
  "kernelspec": {
   "display_name": "Python 3",
   "language": "python",
   "name": "python3"
  },
  "language_info": {
   "codemirror_mode": {
    "name": "ipython",
    "version": 3
   },
   "file_extension": ".py",
   "mimetype": "text/x-python",
   "name": "python",
   "nbconvert_exporter": "python",
   "pygments_lexer": "ipython3",
   "version": "3.6.3"
  }
 },
 "nbformat": 4,
 "nbformat_minor": 2
}
