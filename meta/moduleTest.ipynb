{
 "cells": [
  {
   "cell_type": "markdown",
   "metadata": {},
   "source": [
    "This script is used to test the modules."
   ]
  },
  {
   "cell_type": "code",
   "execution_count": 1,
   "metadata": {},
   "outputs": [],
   "source": [
    "%matplotlib inline\n",
    "\n",
    "import numpy as np\n",
    "import scipy\n",
    "from netCDF4 import Dataset\n",
    "import matplotlib\n",
    "import matplotlib.pyplot as plt\n",
    "import os\n",
    "import statistics"
   ]
  },
  {
   "cell_type": "code",
   "execution_count": 2,
   "metadata": {},
   "outputs": [
    {
     "name": "stdout",
     "output_type": "stream",
     "text": [
      "*********************** extract variables *************************\n",
      "(36, 12, 95)\n",
      "<class 'numpy.ma.core.MaskedArray'>\n"
     ]
    }
   ],
   "source": [
    "if __name__==\"__main__\":\n",
    "    # sample\n",
    "    ################################   Input zone  ######################################\n",
    "    # specify data path\n",
    "    datapath_ERAI = '/home/yang/workbench/Core_Database_AMET_OMET_reanalysis/ERAI/postprocessing'\n",
    "    datapath_ORAS4 = '/home/yang/workbench/Core_Database_AMET_OMET_reanalysis/ORAS4/postprocessing'\n",
    "    datapath_ERAI_fields = '/home/yang/workbench/Core_Database_AMET_OMET_reanalysis/ERAI/regression'\n",
    "    #####################################################################################\n",
    "    print ('*********************** extract variables *************************')\n",
    "    dataset_ERAI_fields_SIC_SST_SLP = Dataset(os.path.join(datapath_ERAI_fields,'surface_ERAI_monthly_regress_1979_2016.nc'))\n",
    "    dataset_ERAI_AMET = Dataset(os.path.join(datapath_ERAI,'model_daily_075_1979_2016_E_zonal_int.nc'))\n",
    "    dataset_ORAS4_OMET = Dataset(os.path.join(datapath_ORAS4,'oras4_model_monthly_orca1_E_zonal_int.nc'))\n",
    "    # extract time series from 1979 to 2014\n",
    "    # from 20N - 90N\n",
    "    AMET_ERAI_reverse = dataset_ERAI_AMET.variables['E'][:-2,:,:]/1000 # from Tera Watt to Peta Watt\n",
    "    OMET_ORAS4 = dataset_ORAS4_OMET.variables['E'][21:,:,180:]/1000 # from Tera Watt to Peta Watt # start from 1979\n",
    "    year_ORAS4 = dataset_ORAS4_OMET.variables['year'][21:]    # from 1979 to 2014\n",
    "    month_ORAS4 = dataset_ORAS4_OMET.variables['month'][:]\n",
    "    latitude_OMET_ORAS4 = dataset_ORAS4_OMET.variables['latitude_aux'][180:]\n",
    "    latitude_AMET_ERAI_reverse = dataset_ERAI_AMET.variables['latitude'][:]\n",
    "    # since OMET is from 20N - 90N, AMET is from 90N to 20N, we have to reverse it\n",
    "    # for interpolation, x should be monotonically increasing\n",
    "    latitude_AMET_ERAI = latitude_AMET_ERAI_reverse[::-1]\n",
    "    AMET_ERAI = AMET_ERAI_reverse[:,:,::-1]\n",
    "    print (AMET_ERAI.shape)\n",
    "    print (type(OMET_ORAS4))"
   ]
  },
  {
   "cell_type": "code",
   "execution_count": 3,
   "metadata": {},
   "outputs": [
    {
     "name": "stdout",
     "output_type": "stream",
     "text": [
      "*******************  interpolation for regression   **********************\n"
     ]
    }
   ],
   "source": [
    "    print ('*******************  interpolation for regression   **********************')\n",
    "    # interpolate OMET on the latitude of AMET\n",
    "    OMET_ORAS4_interp = np.zeros((len(year_ORAS4),len(month_ORAS4),len(latitude_AMET_ERAI)),dtype=float)\n",
    "    for i in np.arange(len(year_ORAS4)):\n",
    "        for j in np.arange(len(month_ORAS4)):\n",
    "            ius = scipy.interpolate.interp1d(latitude_OMET_ORAS4, OMET_ORAS4[i,j,:], kind='slinear',\n",
    "                                             bounds_error=False, fill_value=0.0)\n",
    "            OMET_ORAS4_interp[i,j,:] = ius(latitude_AMET_ERAI.data)\n",
    "    #print (OMET_ORAS4_interp)"
   ]
  },
  {
   "cell_type": "markdown",
   "metadata": {},
   "source": []
  },
  {
   "cell_type": "code",
   "execution_count": 4,
   "metadata": {},
   "outputs": [
    {
     "name": "stdout",
     "output_type": "stream",
     "text": [
      "*******************  postprocess with statistical tool  *********************\n",
      "The input data has the dimension of month.\n",
      "The output anomaly time series only contains one dimension for time!\n",
      "The input data has the dimension of month.\n",
      "The output anomaly time series only contains one dimension for time!\n",
      "(373, 95)\n",
      "One time series is regressed on another.\n",
      "One time series is regressed on another.\n",
      "This a regression with lead/lag analysis.\n"
     ]
    },
    {
     "name": "stderr",
     "output_type": "stream",
     "text": [
      "/home/yang/.pyenv/versions/anaconda3-5.0.1/lib/python3.6/site-packages/scipy/stats/_stats_mstats_common.py:106: RuntimeWarning: invalid value encountered in double_scalars\n",
      "  slope = r_num / ssxm\n",
      "/home/yang/.pyenv/versions/anaconda3-5.0.1/lib/python3.6/site-packages/scipy/stats/_stats_mstats_common.py:118: RuntimeWarning: invalid value encountered in double_scalars\n",
      "  sterrest = np.sqrt((1 - r**2) * ssym / ssxm / df)\n"
     ]
    },
    {
     "data": {
      "text/plain": [
       "(array([[ 0.0332327 ,  0.0313788 ,  0.02917476, ..., -0.58896718,\n",
       "         -1.14288499,         nan],\n",
       "        [ 0.03181334,  0.02980642,  0.02758744, ..., -0.57390709,\n",
       "         -1.13623394,         nan],\n",
       "        [ 0.0304001 ,  0.02826222,  0.02604869, ..., -0.55885011,\n",
       "         -1.13025392,         nan],\n",
       "        ...,\n",
       "        [ 0.00853363,  0.00571451,  0.00539958, ..., -0.30763011,\n",
       "         -0.87895375,         nan],\n",
       "        [ 0.00730229,  0.00454449,  0.00437584, ..., -0.29588671,\n",
       "         -0.85466801,         nan],\n",
       "        [ 0.00585509,  0.00320216,  0.00320691, ..., -0.28357973,\n",
       "         -0.82805178,         nan]]),\n",
       " array([[ 0.30210108,  0.28183389,  0.2528739 , ..., -0.43447688,\n",
       "         -0.57452666,  0.        ],\n",
       "        [ 0.29043333,  0.26857018,  0.23961613, ..., -0.42392986,\n",
       "         -0.57151802,  0.        ],\n",
       "        [ 0.27875282,  0.25556225,  0.22686085, ..., -0.41341747,\n",
       "         -0.5688118 ,  0.        ],\n",
       "        ...,\n",
       "        [ 0.08139838,  0.05336855,  0.04817242, ..., -0.23053271,\n",
       "         -0.43241109,  0.        ],\n",
       "        [ 0.06956694,  0.04238558,  0.03898096, ..., -0.22158695,\n",
       "         -0.41935875,  0.        ],\n",
       "        [ 0.05571828,  0.02982755,  0.02852466, ..., -0.21218628,\n",
       "         -0.40508837,  0.        ]]),\n",
       " array([[4.70076876e-09, 5.12026788e-08, 1.13149058e-06, ...,\n",
       "         4.70361432e-18, 4.29920000e-33, 1.00000000e+00],\n",
       "        [1.81739658e-08, 2.12743716e-07, 4.01547520e-06, ...,\n",
       "         3.19442217e-17, 8.89950052e-33, 1.00000000e+00],\n",
       "        [6.66247290e-08, 8.03556506e-07, 1.27468156e-05, ...,\n",
       "         2.03281918e-16, 1.67246848e-32, 1.00000000e+00],\n",
       "        ...,\n",
       "        [1.21605850e-01, 3.10571611e-01, 3.60100412e-01, ...,\n",
       "         9.12233534e-06, 5.69203222e-18, 1.00000000e+00],\n",
       "        [1.86626781e-01, 4.21389557e-01, 4.59676648e-01, ...,\n",
       "         2.09608261e-05, 7.50691767e-17, 1.00000000e+00],\n",
       "        [2.91061388e-01, 5.72152921e-01, 5.89059951e-01, ...,\n",
       "         4.82540595e-05, 1.09051991e-15, 1.00000000e+00]]))"
      ]
     },
     "execution_count": 4,
     "metadata": {},
     "output_type": "execute_result"
    },
    {
     "data": {
      "image/png": "[encoded data removed]",
      "text/plain": [
       "<matplotlib.figure.Figure at 0x7f0b05486550>"
      ]
     },
     "metadata": {},
     "output_type": "display_data"
    }
   ],
   "source": [
    "    print ('*******************  postprocess with statistical tool  *********************')\n",
    "    stat_AMET_ERAI = statistics.operator(AMET_ERAI)\n",
    "    stat_AMET_ERAI.anomaly()\n",
    "    stat_AMET_ERAI.lowpass()\n",
    "    stat_OMET_ORAS4 = statistics.operator(OMET_ORAS4_interp)\n",
    "    stat_OMET_ORAS4.anomaly()\n",
    "    stat_OMET_ORAS4.detrend()\n",
    "    stat_OMET_ORAS4.lowpass(obj='detrend')\n",
    "    print (stat_OMET_ORAS4._lowpass.shape)\n",
    "    a, b, c = statistics.operator.linearRegress(stat_AMET_ERAI._lowpass, stat_OMET_ORAS4._lowpass)\n",
    "    plt.plot(b)\n",
    "    statistics.operator.linearRegress(stat_AMET_ERAI._lowpass, stat_OMET_ORAS4._lowpass, lag=12)"
   ]
  }
 ],
 "metadata": {
  "kernelspec": {
   "display_name": "Python 3",
   "language": "python",
   "name": "python3"
  },
  "language_info": {
   "codemirror_mode": {
    "name": "ipython",
    "version": 3
   },
   "file_extension": ".py",
   "mimetype": "text/x-python",
   "name": "python",
   "nbconvert_exporter": "python",
   "pygments_lexer": "ipython3",
   "version": "3.6.3"
  }
 },
 "nbformat": 4,
 "nbformat_minor": 2
}
