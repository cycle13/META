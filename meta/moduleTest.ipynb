{
 "cells": [
  {
   "cell_type": "markdown",
   "metadata": {},
   "source": [
    "This script is used to test the modules."
   ]
  },
  {
   "cell_type": "code",
   "execution_count": 1,
   "metadata": {},
   "outputs": [
    {
     "name": "stdout",
     "output_type": "stream",
     "text": [
      "('64bit', '')\n",
      "<module 'posixpath' from '/home/yang/.pyenv/versions/anaconda3-5.0.1/lib/python3.6/posixpath.py'>\n"
     ]
    }
   ],
   "source": [
    "%matplotlib inline\n",
    "\n",
    "import numpy as np\n",
    "import sys\n",
    "sys.path.append(\"../\")\n",
    "import scipy\n",
    "from netCDF4 import Dataset\n",
    "import matplotlib\n",
    "import matplotlib.pyplot as plt\n",
    "import os\n",
    "import platform\n",
    "#import statistics\n",
    "import meta.ERAI\n",
    "\n",
    "print (platform.architecture())\n",
    "print (os.path)"
   ]
  },
  {
   "cell_type": "code",
   "execution_count": null,
   "metadata": {},
   "outputs": [
    {
     "name": "stdout",
     "output_type": "stream",
     "text": [
      "*********************** call functions *************************\n",
      "T\n",
      "q\n",
      "lnsp\n",
      "z\n",
      "u\n",
      "Calculate geopotential on each model level.\n",
      "11\n",
      "44\n",
      "44\n",
      "44\n",
      "44\n",
      "44\n",
      "44\n",
      "44\n",
      "44\n",
      "44\n",
      "44\n",
      "44\n",
      "44\n",
      "44\n",
      "44\n",
      "44\n",
      "44\n",
      "44\n",
      "44\n",
      "44\n",
      "44\n",
      "44\n",
      "44\n",
      "44\n",
      "44\n",
      "44\n",
      "44\n",
      "44\n",
      "44\n",
      "44\n",
      "44\n",
      "44\n",
      "44\n",
      "44\n",
      "44\n",
      "44\n",
      "44\n",
      "44\n",
      "44\n",
      "44\n",
      "44\n",
      "44\n",
      "44\n",
      "44\n",
      "44\n",
      "44\n",
      "44\n",
      "44\n",
      "44\n",
      "44\n",
      "44\n",
      "44\n",
      "44\n",
      "44\n"
     ]
    }
   ],
   "source": [
    "if __name__==\"__main__\":\n",
    "    # sample\n",
    "    ################################   Input zone  ######################################\n",
    "    # specify data path\n",
    "    datapath_ERAI = '/home/yang/workbench/test'\n",
    "    #datapath_ERAI = '/project/Reanalysis/ERA_Interim/Subdaily/Model'\n",
    "    output_path = '/home/yang/workbench/test'\n",
    "    #output_path = '/project/Reanalysis/ERA_Interim/Subdaily/Model'\n",
    "    example = '/home/yang/workbench/test/era1991/model_daily_075_1991_4_T_q.nc'\n",
    "    #example = '/project/Reanalysis/ERA_Interim/Subdaily/Model/era1991/model_daily_075_1991_4_T_q.nc'\n",
    "    uvc_path = '/home/yang/workbench/test/model_subdaily_075_1991_1991_uvc_point.nc'\n",
    "    #####################################################################################\n",
    "    print ('*********************** call functions *************************')\n",
    "    instance = meta.ERAI.erai(datapath_ERAI,output_path)\n",
    "    #instance.massCorrect(1991,1991,example)\n",
    "    instance.amet(1991,1991,uvc_path)\n"
   ]
  },
  {
   "cell_type": "markdown",
   "metadata": {},
   "source": []
  }
 ],
 "metadata": {
  "kernelspec": {
   "display_name": "Python 3",
   "language": "python",
   "name": "python3"
  },
  "language_info": {
   "codemirror_mode": {
    "name": "ipython",
    "version": 3
   },
   "file_extension": ".py",
   "mimetype": "text/x-python",
   "name": "python",
   "nbconvert_exporter": "python",
   "pygments_lexer": "ipython3",
   "version": "3.6.3"
  }
 },
 "nbformat": 4,
 "nbformat_minor": 2
}
